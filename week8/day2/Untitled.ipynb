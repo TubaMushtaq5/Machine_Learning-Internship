{
 "cells": [
  {
   "cell_type": "code",
   "execution_count": null,
   "id": "ff6681cd",
   "metadata": {},
   "outputs": [],
   "source": [
    "from mrjob.job import MRJob\n",
    "\n",
    "class WordCount(MRJob):\n",
    "\n",
    "    def mapper(self, _, line):\n",
    "        words = line.split()\n",
    "        for word in words:\n",
    "            if word.isalpha() and len(word) > 0:\n",
    "                yield word[0].lower(), 1\n",
    "\n",
    "    def reducer(self, letter, counts):\n",
    "        yield letter, sum(counts)\n",
    "\n",
    "if __name__ == '__main__':\n",
    "    WordCount.run()\n"
   ]
  },
  {
   "cell_type": "code",
   "execution_count": null,
   "id": "4607c3b0",
   "metadata": {},
   "outputs": [],
   "source": [
    "class CountWordsStartingwithEachAlphabet(MRJob):\n",
    "\n",
    "    def mapper(self, _, line):\n",
    "        yield \"chars\", len(line)\n",
    "        yield \"words\", len(line.split())\n",
    "        yield \"lines\", 1\n",
    "\n",
    "    def reducer(self, key, values):\n",
    "        yield key, sum(values)\n",
    "\n",
    "\n",
    "if __name__ == '__main__':\n",
    "    CountWordsStartingwithEachAlphabet.run()"
   ]
  },
  {
   "cell_type": "code",
   "execution_count": null,
   "id": "1b4ac299",
   "metadata": {},
   "outputs": [],
   "source": [
    "\n",
    "class WordCountLength(MRJob):\n",
    "\n",
    "    def mapper(self, _, line):\n",
    "        words = line.split()\n",
    "        for word in words:\n",
    "            if len(word) == 5:\n",
    "                yield word, 1\n",
    "\n",
    "    def reducer(self, word, counts):\n",
    "        yield word, sum(counts)\n",
    "\n",
    "if __name__ == '__main__':\n",
    "    WordCountLength.run()\n"
   ]
  }
 ],
 "metadata": {
  "kernelspec": {
   "display_name": "Python 3 (ipykernel)",
   "language": "python",
   "name": "python3"
  },
  "language_info": {
   "codemirror_mode": {
    "name": "ipython",
    "version": 3
   },
   "file_extension": ".py",
   "mimetype": "text/x-python",
   "name": "python",
   "nbconvert_exporter": "python",
   "pygments_lexer": "ipython3",
   "version": "3.9.13"
  }
 },
 "nbformat": 4,
 "nbformat_minor": 5
}
