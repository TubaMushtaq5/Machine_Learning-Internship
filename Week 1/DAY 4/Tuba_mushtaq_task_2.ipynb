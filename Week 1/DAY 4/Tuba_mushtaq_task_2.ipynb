{
  "nbformat": 4,
  "nbformat_minor": 0,
  "metadata": {
    "colab": {
      "provenance": []
    },
    "kernelspec": {
      "name": "python3",
      "display_name": "Python 3"
    },
    "language_info": {
      "name": "python"
    }
  },
  "cells": [
    {
      "cell_type": "code",
      "execution_count": 1,
      "metadata": {
        "id": "whIb7s6G3O5z"
      },
      "outputs": [],
      "source": [
        "import urllib.request\n",
        "from bs4 import BeautifulSoup as bs\n",
        "import sqlite3\n",
        "import re\n",
        "import pandas as pd"
      ]
    },
    {
      "cell_type": "code",
      "source": [
        "page = urllib.request.urlopen(\"https://40hadithnawawi.com/\")\n",
        "soup = bs(page)"
      ],
      "metadata": {
        "id": "15khySzz5-1X"
      },
      "execution_count": 2,
      "outputs": []
    },
    {
      "cell_type": "code",
      "source": [
        "hadiths = []\n",
        "elements = soup.find_all(\"p\")\n",
        "for i in range(0, len(elements), 2):\n",
        " index = elements[i].text.strip(\"Hadith \")\n",
        " title = elements[i+1].text\n",
        "\n",
        " hadiths.append((index,title))\n",
        "print(hadiths)"
      ],
      "metadata": {
        "colab": {
          "base_uri": "https://localhost:8080/"
        },
        "id": "Cy9mRLeF6FZb",
        "outputId": "4c48bd7e-d372-462c-e682-254dc8e2d4cd"
      },
      "execution_count": 3,
      "outputs": [
        {
          "output_type": "stream",
          "name": "stdout",
          "text": [
            "[('1', 'Actions are by intentions'), ('2', 'Islam, Iman, Ihsan'), ('3', 'Islam is Built Upon Five'), ('4', 'Deeds are by Their Final Actions'), ('5', 'Rejection of Evil Deeds and Innovations'), ('6', 'Protecting the Heart'), ('7', 'The Religion is Naseehah (Sincere Advice)'), ('8', 'The Sanctity of a Muslim'), ('9', 'Obligations are According to Ability'), ('10', 'Restricting Oneself to the Permissible'), ('11', 'Being Cautious of the Doubtful'), ('12', 'Leaving that Which Does Not Concern You'), ('13', 'Love for Your Brother What You Love for Yourself'), ('14', 'Prohibition of Blood of a Muslim'), ('15', 'Islamic Manners'), ('16', 'The Forbiddance of Anger'), ('17', 'Prescription of Ihsan (Perfection)'), ('18', 'Follow Up a Bad Deed with a Good Deed'), ('19', 'Be Mindful of Allah and Allah will Protect You'), ('20', 'Modesty is from Faith'), ('21', \"Say 'I believe in Allah' and then be Steadfast\"), ('22', 'Entering Paradise'), ('23', 'Hastening to Do Good'), ('24', 'The Forbiddance of Oppression'), ('25', 'The Value of Charity'), ('26', 'What is Sadaqa?'), ('27', 'Righteousness is in Good Character'), ('28', 'The Obligation of Following the Sunnah'), ('29', 'Means of Goodness'), ('30', 'Do Not Neglect the Religious Obligations'), ('31', 'The Reality of Zuhd (Asceticism)'), ('32', 'No Harming nor Reciprocating Harm'), ('33', 'The Onus of Proof is on the Claimant and The Taking of an Oath is on the Denier'), ('34', 'Forbidding Evil with the Hands, Speech, and Heart'), ('35', 'Brotherhood in Islam'), ('36', 'The Virtue of Gathering for the Remembrance of Allah'), ('37', 'The Grace of Allah and His Mercy'), ('38', 'Attaining Nearness to Allah and His Love'), ('39', 'Leniency for the One who Errs, the One who Forgets, and the One who is Forced'), ('40', 'Be in This World As a Traveler'), ('41', 'The World is the Means for Attaining the Hereafter'), ('42', 'The Expanse of the Forgiveness of Allah')]\n"
          ]
        }
      ]
    },
    {
      "cell_type": "code",
      "source": [
        "#Save it  to the  database\n",
        "conn = sqlite3.connect(\"hadiths.db\")\n",
        "cursor = conn.cursor()"
      ],
      "metadata": {
        "id": "tUSIkkoZ6O69"
      },
      "execution_count": 4,
      "outputs": []
    },
    {
      "cell_type": "code",
      "source": [
        "cursor.execute(\"CREATE TABLE IF NOT EXISTS hadiths (number TEXT, text TEXT)\")\n",
        "cursor.executemany(\"INSERT INTO hadiths VALUES (?, ?)\", hadiths)\n",
        "conn.commit()"
      ],
      "metadata": {
        "id": "fqBhTzoJ6YCC"
      },
      "execution_count": 5,
      "outputs": []
    },
    {
      "cell_type": "code",
      "source": [
        "conn.close()"
      ],
      "metadata": {
        "id": "gqhOaa3c6dqJ"
      },
      "execution_count": 6,
      "outputs": []
    }
  ]
}