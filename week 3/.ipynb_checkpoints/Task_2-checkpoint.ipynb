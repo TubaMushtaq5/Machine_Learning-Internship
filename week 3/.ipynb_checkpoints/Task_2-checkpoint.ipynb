{
 "cells": [
  {
   "cell_type": "code",
   "execution_count": 2,
   "metadata": {},
   "outputs": [
    {
     "name": "stdout",
     "output_type": "stream",
     "text": [
      "Collecting selenium\n",
      "  Downloading selenium-4.11.2-py3-none-any.whl (7.2 MB)\n",
      "     ---------------------------------------- 7.2/7.2 MB 781.3 kB/s eta 0:00:00\n",
      "Collecting trio~=0.17\n",
      "  Downloading trio-0.22.2-py3-none-any.whl (400 kB)\n",
      "     ------------------------------------ 400.2/400.2 kB 733.0 kB/s eta 0:00:00\n",
      "Requirement already satisfied: certifi>=2021.10.8 in c:\\users\\dell\\anaconda3\\lib\\site-packages (from selenium) (2022.9.14)\n",
      "Collecting trio-websocket~=0.9\n",
      "  Downloading trio_websocket-0.10.3-py3-none-any.whl (17 kB)\n",
      "Requirement already satisfied: urllib3[socks]<3,>=1.26 in c:\\users\\dell\\anaconda3\\lib\\site-packages (from selenium) (1.26.11)\n",
      "Requirement already satisfied: idna in c:\\users\\dell\\anaconda3\\lib\\site-packages (from trio~=0.17->selenium) (3.3)\n",
      "Requirement already satisfied: cffi>=1.14 in c:\\users\\dell\\anaconda3\\lib\\site-packages (from trio~=0.17->selenium) (1.15.1)\n",
      "Collecting outcome\n",
      "  Downloading outcome-1.2.0-py2.py3-none-any.whl (9.7 kB)\n",
      "Requirement already satisfied: sortedcontainers in c:\\users\\dell\\anaconda3\\lib\\site-packages (from trio~=0.17->selenium) (2.4.0)\n",
      "Collecting exceptiongroup>=1.0.0rc9\n",
      "  Downloading exceptiongroup-1.1.3-py3-none-any.whl (14 kB)\n",
      "Requirement already satisfied: sniffio in c:\\users\\dell\\anaconda3\\lib\\site-packages (from trio~=0.17->selenium) (1.2.0)\n",
      "Requirement already satisfied: attrs>=20.1.0 in c:\\users\\dell\\anaconda3\\lib\\site-packages (from trio~=0.17->selenium) (21.4.0)\n",
      "Collecting wsproto>=0.14\n",
      "  Downloading wsproto-1.2.0-py3-none-any.whl (24 kB)\n",
      "Requirement already satisfied: PySocks!=1.5.7,<2.0,>=1.5.6 in c:\\users\\dell\\anaconda3\\lib\\site-packages (from urllib3[socks]<3,>=1.26->selenium) (1.7.1)\n",
      "Requirement already satisfied: pycparser in c:\\users\\dell\\anaconda3\\lib\\site-packages (from cffi>=1.14->trio~=0.17->selenium) (2.21)\n",
      "Collecting h11<1,>=0.9.0\n",
      "  Downloading h11-0.14.0-py3-none-any.whl (58 kB)\n",
      "     -------------------------------------- 58.3/58.3 kB 774.5 kB/s eta 0:00:00\n",
      "Installing collected packages: outcome, h11, exceptiongroup, wsproto, trio, trio-websocket, selenium\n",
      "Successfully installed exceptiongroup-1.1.3 h11-0.14.0 outcome-1.2.0 selenium-4.11.2 trio-0.22.2 trio-websocket-0.10.3 wsproto-1.2.0\n"
     ]
    }
   ],
   "source": [
    "!pip install selenium\n",
    "\n"
   ]
  },
  {
   "cell_type": "code",
   "execution_count": 3,
   "metadata": {},
   "outputs": [],
   "source": [
    "from selenium import webdriver\n",
    "from selenium.webdriver.common.by import By\n",
    "from selenium.webdriver.support.ui import WebDriverWait\n",
    "from selenium.webdriver.support import expected_conditions as EC\n",
    "import requests\n",
    "from bs4 import BeautifulSoup\n",
    "import csv"
   ]
  },
  {
   "cell_type": "code",
   "execution_count": 4,
   "metadata": {},
   "outputs": [],
   "source": [
    "# Setup the driver\n",
    "url= 'https://demoazulmexicanosummerville.onlineordersnow.com/MenuDisplay'\n",
    "driver = webdriver.Chrome()\n",
    "driver.get(url)\n"
   ]
  },
  {
   "cell_type": "code",
   "execution_count": 21,
   "metadata": {},
   "outputs": [],
   "source": [
    "# Find and click the necessary buttons\n",
    "menu = WebDriverWait(driver, 30).until(EC.visibility_of_element_located((By.XPATH, \"//button[contains(., 'View Menu')]\")))\n",
    "menu.click()\n",
    "open_Menu_Button = WebDriverWait(driver, 30).until(EC.visibility_of_element_located((By.XPATH, \"//button[contains(., 'Open Menu')]\")))\n",
    "open_Menu_Button.click()\n",
    "driver.implicitly_wait(40)\n",
    "html = driver.page_source # Saving the page source\n",
    "button = WebDriverWait(driver, 30).until(EC.presence_of_element_located((By.CLASS_NAME, \"sizeStyle\")))\n",
    "driver.execute_script(\"arguments[0].click();\", button)\n",
    "driver.implicitly_wait(40) # Waiting for the whole dynamic content to load\n",
    "html2 = driver.page_source # Saving the page source \n",
    "driver.quit() \n"
   ]
  },
  {
   "cell_type": "code",
   "execution_count": 22,
   "metadata": {},
   "outputs": [],
   "source": [
    "# Parse HTML using BeautifulSoup\n",
    "soup1 = BeautifulSoup(html, 'html.parser')\n",
    "soup2 = BeautifulSoup(html2, 'html.parser')"
   ]
  },
  {
   "cell_type": "code",
   "execution_count": 23,
   "metadata": {},
   "outputs": [
    {
     "name": "stdout",
     "output_type": "stream",
     "text": [
      "Item data saved to item_data.csv\n"
     ]
    }
   ],
   "source": [
    "# Find item names\n",
    "item_names = [name.text.strip() for name in soup1.findAll('span', class_='itemLabel') if name]\n",
    "\n",
    "# Filter out unwanted items\n",
    "filtered_item_names = [name for name in item_names if name not in ['8\" Sm.', '10\" Med.', '14\" Lg.']]\n",
    "\n",
    "# Create a list of dictionaries containing item information\n",
    "item_data = [{'Item Name': name} for name in filtered_item_names]\n",
    "\n",
    "# Save the data to a CSV file\n",
    "csv_file = \"item_data.csv\"\n",
    "with open(csv_file, mode='w', newline='', encoding='utf-8') as file:\n",
    "    fieldnames = ['Item Name']\n",
    "    writer = csv.DictWriter(file, fieldnames=fieldnames)\n",
    "    writer.writeheader()\n",
    "    writer.writerows(item_data)\n",
    "\n",
    "print(\"Item data saved to\", csv_file)"
   ]
  },
  {
   "cell_type": "code",
   "execution_count": 24,
   "metadata": {},
   "outputs": [
    {
     "data": {
      "text/plain": [
       "[{'Item Name': 'Classic Nachos'},\n",
       " {'Item Name': 'Nachos Fajitas'},\n",
       " {'Item Name': 'Azul Special Nachos'},\n",
       " {'Item Name': 'Seafood Nachos'},\n",
       " {'Item Name': 'Nachos Mexicanos'},\n",
       " {'Item Name': 'Queso Fundido'},\n",
       " {'Item Name': 'Azul Sampler'},\n",
       " {'Item Name': 'Ceviche'},\n",
       " {'Item Name': 'Cheese Dip'},\n",
       " {'Item Name': 'Bean Dip'},\n",
       " {'Item Name': 'Spinach Dip'},\n",
       " {'Item Name': 'Texas Dip'},\n",
       " {'Item Name': 'Chicken Wings'},\n",
       " {'Item Name': 'Chicken Fingers and Fries'},\n",
       " {'Item Name': 'Shrimp Soup'},\n",
       " {'Item Name': 'Seafood Soup'},\n",
       " {'Item Name': 'Azul Special Salad'},\n",
       " {'Item Name': 'Mil Amores Salad'},\n",
       " {'Item Name': 'Azul Chicken Salad'},\n",
       " {'Item Name': 'Cancun Salad'},\n",
       " {'Item Name': 'Beef Taco Salad'},\n",
       " {'Item Name': 'Chicken Taco Salad'},\n",
       " {'Item Name': 'Combination'},\n",
       " {'Item Name': 'Golden Tacos (3)'},\n",
       " {'Item Name': 'Tacos De Alambre'},\n",
       " {'Item Name': 'Tortas'},\n",
       " {'Item Name': 'Burritos Mexicanos'},\n",
       " {'Item Name': 'Mucho Grande Burrito'},\n",
       " {'Item Name': 'Cheese Steak Burritos'},\n",
       " {'Item Name': 'Pepes Burritos'},\n",
       " {'Item Name': 'Burritos Guadalajara'},\n",
       " {'Item Name': 'Burrito Chile Colorado'},\n",
       " {'Item Name': 'Cheese Quesadilla'},\n",
       " {'Item Name': 'Quesadilla Fajita'},\n",
       " {'Item Name': 'Quesadilla Rellena'},\n",
       " {'Item Name': 'Quesadillas Jalisco'},\n",
       " {'Item Name': 'Enchiladas Rancheras'},\n",
       " {'Item Name': 'Enchiladas Poblanas'},\n",
       " {'Item Name': 'Enchiladas Verdes'},\n",
       " {'Item Name': 'Enchiladas Santa Fe'},\n",
       " {'Item Name': 'Seafood Enchiladas'},\n",
       " {'Item Name': 'Trio Enchiladas'},\n",
       " {'Item Name': 'Carnitas'},\n",
       " {'Item Name': 'Chile Verde'},\n",
       " {'Item Name': 'Pollo Asado'},\n",
       " {'Item Name': 'Azul Chicken Special'},\n",
       " {'Item Name': 'Pollo Mexicano'},\n",
       " {'Item Name': 'Pollo Ranchero'},\n",
       " {'Item Name': 'Pollo A La Crema'},\n",
       " {'Item Name': 'Pollo Con Chorizo'},\n",
       " {'Item Name': 'Steak Ranchero'},\n",
       " {'Item Name': 'Steak Mexicano'},\n",
       " {'Item Name': 'Steak Jalisco'},\n",
       " {'Item Name': 'Steak and Shrimp'},\n",
       " {'Item Name': 'Carne Asada'},\n",
       " {'Item Name': 'Arrachera'},\n",
       " {'Item Name': 'Chile Colorado'},\n",
       " {'Item Name': 'Arroz Con Mariscos'},\n",
       " {'Item Name': 'Camarones A La Diabla'},\n",
       " {'Item Name': 'Camarones Al Mojo'},\n",
       " {'Item Name': 'Azul Shrimp Special'},\n",
       " {'Item Name': 'Coctel De Camaron'},\n",
       " {'Item Name': 'Seafood Chimichanga'},\n",
       " {'Item Name': 'Mojarra Roja Frita'},\n",
       " {'Item Name': 'Salmon A La Plancha'},\n",
       " {'Item Name': 'Molcajete'},\n",
       " {'Item Name': 'Fried Chimichanga'},\n",
       " {'Item Name': 'Chilaquiles Verdes or Rojos'},\n",
       " {'Item Name': 'Taquitos Mexicanos'},\n",
       " {'Item Name': 'Milanesa'},\n",
       " {'Item Name': 'Azul Combo'},\n",
       " {'Item Name': 'Chicken Azul Bowl'},\n",
       " {'Item Name': 'Shrimp Azul Bowl'},\n",
       " {'Item Name': 'Steak Azul Bowl'},\n",
       " {'Item Name': 'Veggie Azul Bowl'},\n",
       " {'Item Name': 'Veggie Quesadilla'},\n",
       " {'Item Name': 'Veggie Soup'},\n",
       " {'Item Name': 'Mini 2oz. Guacamole'},\n",
       " {'Item Name': 'Avocado Slices'},\n",
       " {'Item Name': 'Charro Beans'},\n",
       " {'Item Name': 'Refried Beans'},\n",
       " {'Item Name': 'Rice'},\n",
       " {'Item Name': 'Shredded Cheese'},\n",
       " {'Item Name': 'Sour Cream'},\n",
       " {'Item Name': 'Pico de Gallo'},\n",
       " {'Item Name': 'Chiles Toreados'},\n",
       " {'Item Name': 'Street Corn'},\n",
       " {'Item Name': 'Coke'},\n",
       " {'Item Name': 'Diet Coke'},\n",
       " {'Item Name': 'Coke Zero'},\n",
       " {'Item Name': 'Sprite'},\n",
       " {'Item Name': 'Pibb Extra'},\n",
       " {'Item Name': 'Fanta'},\n",
       " {'Item Name': 'Minute Maid Lemonade'},\n",
       " {'Item Name': 'Sweet Tea'},\n",
       " {'Item Name': 'Unsweet Tea'},\n",
       " {'Item Name': 'Jarritos'},\n",
       " {'Item Name': 'Mexican Bottled Coke'},\n",
       " {'Item Name': 'Mexican Bottled Fanta'},\n",
       " {'Item Name': 'Horchata'},\n",
       " {'Item Name': 'Jamaica'},\n",
       " {'Item Name': 'Flan'},\n",
       " {'Item Name': 'Sopapilla'},\n",
       " {'Item Name': 'Churros With Ice Cream'},\n",
       " {'Item Name': 'Fried Ice Cream'},\n",
       " {'Item Name': 'Tres Leches Cake'},\n",
       " {'Item Name': 'Breakfast Burrito'},\n",
       " {'Item Name': 'Carne Asada'},\n",
       " {'Item Name': 'Carnitas'},\n",
       " {'Item Name': 'Pollo Ranchero'},\n",
       " {'Item Name': 'Chori Pollo'},\n",
       " {'Item Name': 'Chilaquiles'},\n",
       " {'Item Name': 'Huevos Al Gusto'},\n",
       " {'Item Name': 'Taco Salad'},\n",
       " {'Item Name': 'Chimichanga'},\n",
       " {'Item Name': 'Fajita Quesadilla'},\n",
       " {'Item Name': 'Azul Chicken Salad'},\n",
       " {'Item Name': 'Cancun Salad'},\n",
       " {'Item Name': 'Full Slab Dinner'},\n",
       " {'Item Name': 'Classic Italian Sub'},\n",
       " {'Item Name': 'Sicilian Pepperoni Pizza'},\n",
       " {'Item Name': 'Dozen Bagels'},\n",
       " {'Item Name': 'Sandwich and Salads Builder'},\n",
       " {'Item Name': 'DoorDash Drive'},\n",
       " {'Item Name': 'Multi Delivery Mapping'},\n",
       " {'Item Name': 'Lead Times (Unlimited: Lunch Rush, Dinner Rush, etc...)'},\n",
       " {'Item Name': 'Separate Pickup and Delivery Menus'},\n",
       " {'Item Name': 'Advance Ordering'},\n",
       " {'Item Name': 'Auto POS Price Sync with $Amount or %Percentage add on.'},\n",
       " {'Item Name': 'Catering Menus'},\n",
       " {'Item Name': 'Kiosk Mode'}]"
      ]
     },
     "execution_count": 24,
     "metadata": {},
     "output_type": "execute_result"
    }
   ],
   "source": [
    "item_data"
   ]
  },
  {
   "cell_type": "code",
   "execution_count": null,
   "metadata": {},
   "outputs": [],
   "source": []
  }
 ],
 "metadata": {
  "kernelspec": {
   "display_name": "Python 3 (ipykernel)",
   "language": "python",
   "name": "python3"
  },
  "language_info": {
   "codemirror_mode": {
    "name": "ipython",
    "version": 3
   },
   "file_extension": ".py",
   "mimetype": "text/x-python",
   "name": "python",
   "nbconvert_exporter": "python",
   "pygments_lexer": "ipython3",
   "version": "3.9.13"
  }
 },
 "nbformat": 4,
 "nbformat_minor": 4
}
