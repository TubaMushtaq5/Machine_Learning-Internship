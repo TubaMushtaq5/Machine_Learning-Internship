{
 "cells": [
  {
   "cell_type": "code",
   "execution_count": 5,
   "id": "7eb17bbf",
   "metadata": {},
   "outputs": [],
   "source": [
    "import pandas as pd\n",
    "from faker import Faker\n",
    "import random\n",
    "\n",
    "fake = Faker()\n",
    "\n",
    "# Create a list of potential Zakat recipients with synthetic socio-economic data\n",
    "recipients = []\n",
    "for _ in range(1000):\n",
    "    name = fake.name()\n",
    "    age = random.randint(18, 80)\n",
    "    income = random.randint(100, 5000)\n",
    "    family_size = random.randint(1, 8)\n",
    "    health_condition = random.choice(['Good', 'Fair', 'Poor'])\n",
    "    recipients.append([name, age, income, family_size, health_condition])\n",
    "\n",
    "# Create a DataFrame from the generated data\n",
    "columns = ['Name', 'Age', 'Income', 'Family_Size', 'Health_Condition']\n",
    "df = pd.DataFrame(recipients, columns=columns)\n",
    "\n",
    "# Create a synthetic historical Zakat contribution and distribution dataset\n",
    "contributions = []\n",
    "for _ in range(500):\n",
    "    donor_name = fake.name()\n",
    "    donation_amount = random.randint(10, 1000)\n",
    "    distribution_date = fake.date_between(start_date='-2y', end_date='today')\n",
    "    recipient_name = random.choice(df['Name'])\n",
    "    contributions.append([donor_name, donation_amount, distribution_date, recipient_name])\n",
    "\n",
    "# Create a DataFrame for contributions and distributions\n",
    "columns = ['Donor_Name', 'Donation_Amount', 'Distribution_Date', 'Recipient_Name']\n",
    "contribution_df = pd.DataFrame(contributions, columns=columns)\n",
    "\n",
    "# Save the datasets to CSV files\n",
    "df.to_csv('zakat_recipients_data.csv', index=False)\n",
    "contribution_df.to_csv('zakat_contributions_data.csv', index=False)\n"
   ]
  },
  {
   "cell_type": "code",
   "execution_count": 6,
   "id": "61c3ef17",
   "metadata": {},
   "outputs": [
    {
     "data": {
      "text/plain": [
       "(1000, 5)"
      ]
     },
     "execution_count": 6,
     "metadata": {},
     "output_type": "execute_result"
    }
   ],
   "source": [
    "import pandas as pd\n",
    "from sklearn.model_selection import train_test_split\n",
    "from sklearn.linear_model import LinearRegression\n",
    "from sklearn.metrics import mean_squared_error, r2_score\n",
    "import numpy as np\n",
    "\n",
    "# Load the Zakat recipients dataset\n",
    "df = pd.read_csv('zakat_recipients_data.csv')\n",
    "df.shape"
   ]
  },
  {
   "cell_type": "code",
   "execution_count": 7,
   "id": "2be77824",
   "metadata": {},
   "outputs": [
    {
     "data": {
      "text/plain": [
       "(1000, 5)"
      ]
     },
     "execution_count": 7,
     "metadata": {},
     "output_type": "execute_result"
    }
   ],
   "source": [
    "df_no_duplicates = df.drop_duplicates()\n",
    "df_no_duplicates.shape"
   ]
  },
  {
   "cell_type": "code",
   "execution_count": 4,
   "id": "633fea27",
   "metadata": {},
   "outputs": [
    {
     "name": "stdout",
     "output_type": "stream",
     "text": [
      "Mean Squared Error: 1.2839313291114832e-24\n",
      "R-squared: 1.0\n",
      "\n",
      "Predicted Zakat Needs for New Recipients:\n",
      "   Age  Income  Family_Size  Predicted_Needs\n",
      "0   35    2000            4           2000.0\n",
      "1   45    3000            5           3000.0\n"
     ]
    }
   ],
   "source": [
    "\n",
    "# Define features (X) and target (y)\n",
    "X = df[['Age', 'Income', 'Family_Size']]\n",
    "y = df['Income']  # We'll use income as a proxy for financial need in this example\n",
    "\n",
    "# Split the data into training and testing sets\n",
    "X_train, X_test, y_train, y_test = train_test_split(X, y, test_size=0.2, random_state=42)\n",
    "\n",
    "# Train a linear regression model\n",
    "model = LinearRegression()\n",
    "model.fit(X_train, y_train)\n",
    "\n",
    "# Make predictions on the test set\n",
    "y_pred = model.predict(X_test)\n",
    "\n",
    "# Evaluate the model\n",
    "mse = mean_squared_error(y_test, y_pred)\n",
    "r2 = r2_score(y_test, y_pred)\n",
    "\n",
    "print(f\"Mean Squared Error: {mse}\")\n",
    "print(f\"R-squared: {r2}\")\n",
    "\n",
    "# Example: Predict Zakat needs for new recipients\n",
    "new_recipients = pd.DataFrame({'Age': [35, 45], 'Income': [2000, 3000], 'Family_Size': [4, 5]})\n",
    "\n",
    "# Predict the Zakat needs\n",
    "predicted_needs = model.predict(new_recipients)\n",
    "\n",
    "# Add the predicted needs to the new recipients DataFrame\n",
    "new_recipients['Predicted_Needs'] = predicted_needs\n",
    "\n",
    "# Print the results\n",
    "print(\"\\nPredicted Zakat Needs for New Recipients:\")\n",
    "print(new_recipients)\n"
   ]
  },
  {
   "cell_type": "code",
   "execution_count": null,
   "id": "c58c51c9",
   "metadata": {},
   "outputs": [],
   "source": []
  }
 ],
 "metadata": {
  "kernelspec": {
   "display_name": "Python 3 (ipykernel)",
   "language": "python",
   "name": "python3"
  },
  "language_info": {
   "codemirror_mode": {
    "name": "ipython",
    "version": 3
   },
   "file_extension": ".py",
   "mimetype": "text/x-python",
   "name": "python",
   "nbconvert_exporter": "python",
   "pygments_lexer": "ipython3",
   "version": "3.9.13"
  }
 },
 "nbformat": 4,
 "nbformat_minor": 5
}
